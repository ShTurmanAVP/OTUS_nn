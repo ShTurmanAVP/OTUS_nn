{
 "cells": [
  {
   "cell_type": "code",
   "execution_count": 7,
   "metadata": {},
   "outputs": [],
   "source": [
    "import torch\n",
    "import torch.nn as nn\n",
    "import torch.nn.functional as F\n",
    "import torch.optim as optim\n",
    "\n",
    "import numpy as np\n",
    "import scipy.stats as stats\n",
    "import matplotlib.pyplot as plt\n",
    "\n",
    "%matplotlib inline"
   ]
  },
  {
   "cell_type": "code",
   "execution_count": 8,
   "metadata": {},
   "outputs": [],
   "source": [
    "# параметры распределений\n",
    "mu0, sigma0 = (-2., 3.), (1., 3.)\n",
    "mu1, sigma1 = (3., 1.5), (2., 2)"
   ]
  },
  {
   "cell_type": "code",
   "execution_count": 9,
   "metadata": {},
   "outputs": [],
   "source": [
    "def sample(d0, d1, n=32):\n",
    "    x0 = d0.sample((n,))\n",
    "    x1 = d1.sample((n,))\n",
    "    y0 = torch.zeros((n, 1))\n",
    "    y1 = torch.ones((n, 1))\n",
    "    return torch.cat([x0, x1], 0), torch.cat([y0, y1], 0)"
   ]
  },
  {
   "cell_type": "code",
   "execution_count": 10,
   "metadata": {},
   "outputs": [],
   "source": [
    "d0 = torch.distributions.Normal(torch.tensor(mu0), torch.tensor(sigma0))\n",
    "d1 = torch.distributions.Normal(torch.tensor(mu1), torch.tensor(sigma1))"
   ]
  },
  {
   "cell_type": "code",
   "execution_count": 11,
   "metadata": {},
   "outputs": [
    {
     "data": {
      "text/plain": [
       "(Normal(loc: torch.Size([2]), scale: torch.Size([2])),\n",
       " Normal(loc: torch.Size([2]), scale: torch.Size([2])))"
      ]
     },
     "execution_count": 11,
     "metadata": {},
     "output_type": "execute_result"
    }
   ],
   "source": [
    "d0, d1"
   ]
  },
  {
   "cell_type": "code",
   "execution_count": 12,
   "metadata": {
    "collapsed": true
   },
   "outputs": [
    {
     "data": {
      "text/plain": [
       "(tensor([[-0.2253,  0.2419],\n",
       "         [-1.3592, -0.3074],\n",
       "         [-2.8295,  4.4561],\n",
       "         [-2.7517, -0.6369],\n",
       "         [-1.7182,  5.6996],\n",
       "         [-0.9888,  3.3960],\n",
       "         [-2.4488,  2.1543],\n",
       "         [-3.9509,  7.7024],\n",
       "         [-2.2895,  3.0829],\n",
       "         [-1.7301,  2.2812],\n",
       "         [ 0.8208,  1.9980],\n",
       "         [ 2.9478, -1.7895],\n",
       "         [ 4.2247,  3.7402],\n",
       "         [ 2.1799,  2.2757],\n",
       "         [-3.5314,  1.0445],\n",
       "         [ 3.8198,  3.4018],\n",
       "         [ 2.6249,  1.2622],\n",
       "         [ 1.4640,  3.4025],\n",
       "         [ 3.5071,  0.6887],\n",
       "         [ 4.6225,  3.5643]]), tensor([[0.],\n",
       "         [0.],\n",
       "         [0.],\n",
       "         [0.],\n",
       "         [0.],\n",
       "         [0.],\n",
       "         [0.],\n",
       "         [0.],\n",
       "         [0.],\n",
       "         [0.],\n",
       "         [1.],\n",
       "         [1.],\n",
       "         [1.],\n",
       "         [1.],\n",
       "         [1.],\n",
       "         [1.],\n",
       "         [1.],\n",
       "         [1.],\n",
       "         [1.],\n",
       "         [1.]]))"
      ]
     },
     "execution_count": 12,
     "metadata": {},
     "output_type": "execute_result"
    }
   ],
   "source": [
    "x, y = sample(d0, d1, 10)\n",
    "x, y"
   ]
  },
  {
   "cell_type": "code",
   "execution_count": 14,
   "metadata": {},
   "outputs": [
    {
     "data": {
      "text/plain": [
       "torch.Size([20, 2])"
      ]
     },
     "execution_count": 14,
     "metadata": {},
     "output_type": "execute_result"
    }
   ],
   "source": [
    "x.size()"
   ]
  },
  {
   "cell_type": "code",
   "execution_count": 15,
   "metadata": {},
   "outputs": [
    {
     "name": "stdout",
     "output_type": "stream",
     "text": [
      "[tensor([ 0.1013, -0.1307]), tensor(0.4693)]\n"
     ]
    }
   ],
   "source": [
    "layer = nn.Linear(2, 1)\n",
    "print([p.data[0] for p in layer.parameters()])\n",
    "layer_opt = optim.SGD(lr=1e-3, params=list(layer.parameters()))"
   ]
  },
  {
   "cell_type": "code",
   "execution_count": 16,
   "metadata": {},
   "outputs": [
    {
     "name": "stdout",
     "output_type": "stream",
     "text": [
      "Ошибка после 0 итераций: 0.554639\n",
      "Ошибка после 1 итераций: 0.324148\n",
      "Ошибка после 2 итераций: 0.252813\n",
      "Ошибка после 3 итераций: 0.217988\n",
      "Ошибка после 4 итераций: 0.197002\n",
      "Ошибка после 5 итераций: 0.184185\n",
      "Ошибка после 6 итераций: 0.174280\n",
      "Ошибка после 7 итераций: 0.166528\n",
      "Ошибка после 8 итераций: 0.161129\n",
      "Ошибка после 9 итераций: 0.158118\n",
      "Ошибка после 10 итераций: 0.152924\n",
      "Ошибка после 11 итераций: 0.150589\n",
      "Ошибка после 12 итераций: 0.147879\n",
      "Ошибка после 13 итераций: 0.145129\n",
      "Ошибка после 14 итераций: 0.143118\n",
      "Ошибка после 15 итераций: 0.141085\n",
      "Ошибка после 16 итераций: 0.139659\n",
      "Ошибка после 17 итераций: 0.138752\n",
      "Ошибка после 18 итераций: 0.136906\n",
      "Ошибка после 19 итераций: 0.136494\n"
     ]
    }
   ],
   "source": [
    "log_freq = 500\n",
    "for i in range(10000):\n",
    "    if i%log_freq == 0:\n",
    "        with torch.no_grad():\n",
    "            x, y = sample(d0, d1, 100000)\n",
    "            out = torch.sigmoid(layer(x))\n",
    "            loss = F.binary_cross_entropy(out, y)\n",
    "        print('Ошибка после %d итераций: %f' %(i/log_freq, loss))\n",
    "    layer_opt.zero_grad()\n",
    "    x, y = sample(d0, d1, 1024)\n",
    "    out = torch.sigmoid(layer(x))\n",
    "    loss = F.binary_cross_entropy(out, y)\n",
    "    loss.backward()\n",
    "    layer_opt.step()"
   ]
  },
  {
   "cell_type": "code",
   "execution_count": 37,
   "metadata": {},
   "outputs": [
    {
     "data": {
      "text/plain": [
       "array([[[-10.        , -10.        , -10.        , ..., -10.        ,\n",
       "         -10.        , -10.        ],\n",
       "        [ -9.97997998,  -9.97997998,  -9.97997998, ...,  -9.97997998,\n",
       "          -9.97997998,  -9.97997998],\n",
       "        [ -9.95995996,  -9.95995996,  -9.95995996, ...,  -9.95995996,\n",
       "          -9.95995996,  -9.95995996],\n",
       "        ...,\n",
       "        [  9.95995996,   9.95995996,   9.95995996, ...,   9.95995996,\n",
       "           9.95995996,   9.95995996],\n",
       "        [  9.97997998,   9.97997998,   9.97997998, ...,   9.97997998,\n",
       "           9.97997998,   9.97997998],\n",
       "        [ 10.        ,  10.        ,  10.        , ...,  10.        ,\n",
       "          10.        ,  10.        ]],\n",
       "\n",
       "       [[-10.        ,  -9.97997998,  -9.95995996, ...,   9.95995996,\n",
       "           9.97997998,  10.        ],\n",
       "        [-10.        ,  -9.97997998,  -9.95995996, ...,   9.95995996,\n",
       "           9.97997998,  10.        ],\n",
       "        [-10.        ,  -9.97997998,  -9.95995996, ...,   9.95995996,\n",
       "           9.97997998,  10.        ],\n",
       "        ...,\n",
       "        [-10.        ,  -9.97997998,  -9.95995996, ...,   9.95995996,\n",
       "           9.97997998,  10.        ],\n",
       "        [-10.        ,  -9.97997998,  -9.95995996, ...,   9.95995996,\n",
       "           9.97997998,  10.        ],\n",
       "        [-10.        ,  -9.97997998,  -9.95995996, ...,   9.95995996,\n",
       "           9.97997998,  10.        ]]])"
      ]
     },
     "execution_count": 37,
     "metadata": {},
     "output_type": "execute_result"
    }
   ],
   "source": [
    "xy = np.mgrid[-10:10:1000j, -10:10:1000j]\n",
    "xy"
   ]
  },
  {
   "cell_type": "code",
   "execution_count": 30,
   "metadata": {},
   "outputs": [
    {
     "data": {
      "text/plain": [
       "(1000000, 2)"
      ]
     },
     "execution_count": 30,
     "metadata": {},
     "output_type": "execute_result"
    }
   ],
   "source": [
    "xy.shape"
   ]
  },
  {
   "cell_type": "code",
   "execution_count": 38,
   "metadata": {},
   "outputs": [],
   "source": [
    "x_scale = np.mgrid[-10:10:1000j, -10:10:1000j].reshape(2,-1).T\n",
    "d0_pdf = stats.norm.pdf(x_scale, mu0, sigma0) \n",
    "d1_pdf = stats.norm.pdf(x_scale, mu1, sigma1)\n",
    "x_tensor = torch.tensor(x_scale, dtype=torch.float)\n",
    "with torch.no_grad():\n",
    "    dist = torch.sigmoid(layer(x_tensor)).numpy()\n",
    "ratio = d1_pdf / (d1_pdf + d0_pdf)"
   ]
  },
  {
   "cell_type": "code",
   "execution_count": 39,
   "metadata": {},
   "outputs": [
    {
     "data": {
      "image/png": "[encoded data removed]",
      "text/plain": [
       "<Figure size 432x288 with 1 Axes>"
      ]
     },
     "metadata": {
      "needs_background": "light"
     },
     "output_type": "display_data"
    }
   ],
   "source": [
    "plt.plot(x_scale, d0_pdf*2, label='d0') # умножение на 2 для красоты графиков, на распределения не влияет\n",
    "plt.plot(x_scale, d1_pdf*2, label='d1')\n",
    "plt.plot(x_scale, dist.flatten(), label='pred')\n",
    "plt.plot(x_scale, ratio, label='ratio')\n",
    "plt.legend();"
   ]
  },
  {
   "cell_type": "code",
   "execution_count": null,
   "metadata": {},
   "outputs": [],
   "source": [
    "print([p.data[0] for p in layer.parameters()])"
   ]
  },
  {
   "cell_type": "code",
   "execution_count": null,
   "metadata": {},
   "outputs": [],
   "source": [
    "torch.log(F.sigmoid(torch.tensor(-100.)))"
   ]
  },
  {
   "cell_type": "code",
   "execution_count": null,
   "metadata": {},
   "outputs": [],
   "source": [
    "F.logsigmoid(torch.tensor(-100.))"
   ]
  },
  {
   "cell_type": "code",
   "execution_count": null,
   "metadata": {},
   "outputs": [],
   "source": []
  }
 ],
 "metadata": {
  "kernelspec": {
   "display_name": "Python 3",
   "language": "python",
   "name": "python3"
  },
  "language_info": {
   "codemirror_mode": {
    "name": "ipython",
    "version": 3
   },
   "file_extension": ".py",
   "mimetype": "text/x-python",
   "name": "python",
   "nbconvert_exporter": "python",
   "pygments_lexer": "ipython3",
   "version": "3.7.1"
  }
 },
 "nbformat": 4,
 "nbformat_minor": 2
}
